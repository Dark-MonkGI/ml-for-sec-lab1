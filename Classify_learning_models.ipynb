{
 "cells": [
  {
   "cell_type": "markdown",
   "metadata": {},
   "source": [
    "## В данном файле определены методы classify для разных заданий"
   ]
  },
  {
   "cell_type": "code",
   "execution_count": 1,
   "metadata": {},
   "outputs": [],
   "source": [
    "import numpy as np\n",
    "import pandas as pd\n",
    "import pickle\n",
    "from sklearn.metrics import confusion_matrix,f1_score,classification_report"
   ]
  },
  {
   "cell_type": "code",
   "execution_count": 2,
   "metadata": {},
   "outputs": [],
   "source": [
    "features_file_name = 'features_train.csv'\n",
    "classes_file_name = 'classes_train.csv'"
   ]
  },
  {
   "cell_type": "markdown",
   "metadata": {},
   "source": [
    "### Для модели из задания 1.1"
   ]
  },
  {
   "cell_type": "code",
   "execution_count": 3,
   "metadata": {},
   "outputs": [],
   "source": [
    "def classify_task1(modelFileName, dataFileName) -> np.array:\n",
    "    \"\"\"\n",
    "    :param modelFileName: Имя файла, из которого будут загружены параметры обученной ML-модели (напирмер model.txt)\n",
    "    :param dataFileName: Имя CSV-файла с данными для анализа, которые нужно классифицировать.\n",
    "    Файл имеет ту же структуру, что и файл обучающей выборки. Каждая строка файла (кроме заголовочной) содержит признаки одного пользователя\n",
    "    :return: numpy-вектор с результатами классификации размерности (K, ), где K - количество содержательных строк в dataframe\n",
    "    \"\"\"\n",
    "    features = pd.read_csv(dataFileName)\n",
    "    with open(modelFileName, 'rb') as f:\n",
    "        model = pickle.load(f)\n",
    "    predictions = model.predict(features)\n",
    "    return predictions"
   ]
  },
  {
   "cell_type": "code",
   "execution_count": 4,
   "metadata": {},
   "outputs": [],
   "source": [
    "y_test = pd.read_csv(classes_file_name)"
   ]
  },
  {
   "cell_type": "code",
   "execution_count": 5,
   "metadata": {},
   "outputs": [],
   "source": [
    "predictions = classify_task1('./models/model_task_1.1.pkl', features_file_name)"
   ]
  },
  {
   "cell_type": "code",
   "execution_count": 6,
   "metadata": {
    "scrolled": true
   },
   "outputs": [
    {
     "name": "stdout",
     "output_type": "stream",
     "text": [
      "Confussion matrix\n",
      "[[1700  100]\n",
      " [ 327  273]]\n",
      "\n",
      "\n",
      "F1 of model: 0.806606034743671 \n",
      "\n",
      "              precision    recall  f1-score   support\n",
      "\n",
      "           0       0.84      0.94      0.89      1800\n",
      "           1       0.73      0.46      0.56       600\n",
      "\n",
      "    accuracy                           0.82      2400\n",
      "   macro avg       0.79      0.70      0.72      2400\n",
      "weighted avg       0.81      0.82      0.81      2400\n",
      "\n"
     ]
    }
   ],
   "source": [
    "conf_matrix = confusion_matrix(y_test, predictions)\n",
    "model_f1_score = f1_score(y_test, predictions, average=\"weighted\")\n",
    "\n",
    "print(\"Confussion matrix\")\n",
    "\n",
    "print(conf_matrix)\n",
    "print(\"\\n\")\n",
    "print(\"F1 of model:\", model_f1_score,'\\n')\n",
    "print(classification_report(y_test, predictions))"
   ]
  },
  {
   "cell_type": "markdown",
   "metadata": {},
   "source": [
    "### Для модели из задания 2.1"
   ]
  },
  {
   "cell_type": "code",
   "execution_count": 7,
   "metadata": {},
   "outputs": [],
   "source": [
    "def classify_task2(modelFileName, dataFileName) -> np.array:\n",
    "    \"\"\"\n",
    "    :param modelFileName: Имя файла, из которого будут загружены параметры обученной ML-модели (напирмер model.txt)\n",
    "    :param dataFileName: Имя CSV-файла с данными для анализа, которые нужно классифицировать.\n",
    "    Файл имеет ту же структуру, что и файл обучающей выборки. Каждая строка файла (кроме заголовочной) содержит признаки одного пользователя\n",
    "    :return: numpy-вектор с результатами классификации размерности (K, ), где K - количество содержательных строк в dataframe\n",
    "    \"\"\"\n",
    "    most_corr_fields_list = ['is_verified',\n",
    "     'user_age',\n",
    "     'is_default_profile',\n",
    "     'favourites_count',\n",
    "     'is_profile_use_background_image',\n",
    "     'favourites_growth_rate',\n",
    "     'description_length',\n",
    "     'friends_count',\n",
    "     'friends_growth_rate',\n",
    "     'screen_name_length',\n",
    "     'listed_growth_rate']\n",
    "    \n",
    "    features = pd.read_csv(dataFileName)\n",
    "    with open(modelFileName, 'rb') as f:\n",
    "        model = pickle.load(f)\n",
    "    features = features[most_corr_fields_list].copy()\n",
    "    predictions = model.predict(features)\n",
    "    return predictions"
   ]
  },
  {
   "cell_type": "code",
   "execution_count": 8,
   "metadata": {},
   "outputs": [],
   "source": [
    "y_test = pd.read_csv(classes_file_name)"
   ]
  },
  {
   "cell_type": "code",
   "execution_count": 9,
   "metadata": {},
   "outputs": [],
   "source": [
    "predictions = classify_task2('./models/model_task_2.1.pkl', features_file_name)"
   ]
  },
  {
   "cell_type": "code",
   "execution_count": 10,
   "metadata": {},
   "outputs": [
    {
     "name": "stdout",
     "output_type": "stream",
     "text": [
      "Confussion matrix\n",
      "[[1800    0]\n",
      " [ 600    0]]\n",
      "\n",
      "\n",
      "F1 of model: 0.6428571428571428 \n",
      "\n",
      "              precision    recall  f1-score   support\n",
      "\n",
      "           0       0.75      1.00      0.86      1800\n",
      "           1       0.00      0.00      0.00       600\n",
      "\n",
      "    accuracy                           0.75      2400\n",
      "   macro avg       0.38      0.50      0.43      2400\n",
      "weighted avg       0.56      0.75      0.64      2400\n",
      "\n"
     ]
    },
    {
     "name": "stderr",
     "output_type": "stream",
     "text": [
      "C:\\ProgramData\\Anaconda3\\lib\\site-packages\\sklearn\\metrics\\_classification.py:1272: UndefinedMetricWarning: Precision and F-score are ill-defined and being set to 0.0 in labels with no predicted samples. Use `zero_division` parameter to control this behavior.\n",
      "  _warn_prf(average, modifier, msg_start, len(result))\n"
     ]
    }
   ],
   "source": [
    "conf_matrix = confusion_matrix(y_test, predictions)\n",
    "model_f1_score = f1_score(y_test, predictions, average=\"weighted\")\n",
    "\n",
    "print(\"Confussion matrix\")\n",
    "\n",
    "print(conf_matrix)\n",
    "print(\"\\n\")\n",
    "print(\"F1 of model:\", model_f1_score,'\\n')\n",
    "print(classification_report(y_test, predictions))"
   ]
  }
 ],
 "metadata": {
  "kernelspec": {
   "display_name": "Python 3",
   "language": "python",
   "name": "python3"
  },
  "language_info": {
   "codemirror_mode": {
    "name": "ipython",
    "version": 3
   },
   "file_extension": ".py",
   "mimetype": "text/x-python",
   "name": "python",
   "nbconvert_exporter": "python",
   "pygments_lexer": "ipython3",
   "version": "3.7.6"
  }
 },
 "nbformat": 4,
 "nbformat_minor": 4
}
